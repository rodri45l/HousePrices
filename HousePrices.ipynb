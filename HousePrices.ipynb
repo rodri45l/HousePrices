{
 "cells": [
  {
   "cell_type": "code",
   "execution_count": 914,
   "metadata": {},
   "outputs": [],
   "source": [
    "import pandas as pd\n",
    "import matplotlib.pyplot as plt\n",
    "import numpy as np"
   ]
  },
  {
   "cell_type": "code",
   "execution_count": 915,
   "metadata": {},
   "outputs": [
    {
     "name": "stdout",
     "output_type": "stream",
     "text": [
      "LotFrontage :259\n",
      "Alley :1369\n",
      "MasVnrType :8\n",
      "MasVnrArea :8\n",
      "BsmtQual :37\n",
      "BsmtCond :37\n",
      "BsmtExposure :38\n",
      "BsmtFinType1 :37\n",
      "BsmtFinType2 :38\n",
      "Electrical :1\n",
      "FireplaceQu :690\n",
      "GarageType :81\n",
      "GarageYrBlt :81\n",
      "GarageFinish :81\n",
      "GarageQual :81\n",
      "GarageCond :81\n",
      "PoolQC :1453\n",
      "Fence :1179\n",
      "MiscFeature :1406\n"
     ]
    }
   ],
   "source": [
    "dataset = pd.read_csv(\"./data/train.csv\")\n",
    "testdataset = pd.read_csv(\"./data/test.csv\")\n",
    "ids = testdataset.iloc[:, 0].values\n",
    "# data_missing = dataset.columns[df.isnull().any()].tolist()\n",
    "\n",
    "# data missing\n",
    "for col in data_missing:\n",
    "    print(f\"{col} :{dataset[col].isnull().sum()}\")\n",
    "\n",
    "# delete the variables with more than 500 missing values\n",
    "del dataset[\"Alley\"]\n",
    "del dataset[\"FireplaceQu\"]\n",
    "del dataset[\"PoolQC\"]\n",
    "del dataset[\"Fence\"] \n",
    "del dataset[\"MiscFeature\"]\n",
    "del dataset[\"Id\"]\n",
    "\n",
    "del testdataset[\"Alley\"]\n",
    "del testdataset[\"FireplaceQu\"]\n",
    "del testdataset[\"PoolQC\"]\n",
    "del testdataset[\"Fence\"] \n",
    "del testdataset[\"MiscFeature\"]\n",
    "del testdataset[\"Id\"]\n"
   ]
  },
  {
   "cell_type": "code",
   "execution_count": 916,
   "metadata": {},
   "outputs": [
    {
     "name": "stdout",
     "output_type": "stream",
     "text": [
      "MSSubClass :0\n",
      "MSZoning :0\n",
      "LotFrontage :0\n",
      "LotArea :0\n",
      "Street :0\n",
      "LotShape :0\n",
      "LandContour :0\n",
      "Utilities :0\n",
      "LotConfig :0\n",
      "LandSlope :0\n",
      "Neighborhood :0\n",
      "Condition1 :0\n",
      "Condition2 :0\n",
      "BldgType :0\n",
      "HouseStyle :0\n",
      "OverallQual :0\n",
      "OverallCond :0\n",
      "YearBuilt :0\n",
      "YearRemodAdd :0\n",
      "RoofStyle :0\n",
      "RoofMatl :0\n",
      "Exterior1st :0\n",
      "Exterior2nd :0\n",
      "MasVnrType :8\n",
      "MasVnrArea :0\n",
      "ExterQual :0\n",
      "ExterCond :0\n",
      "Foundation :0\n",
      "BsmtQual :37\n",
      "BsmtCond :37\n",
      "BsmtExposure :38\n",
      "BsmtFinType1 :37\n",
      "BsmtFinSF1 :0\n",
      "BsmtFinType2 :38\n",
      "BsmtFinSF2 :0\n",
      "BsmtUnfSF :0\n",
      "TotalBsmtSF :0\n",
      "Heating :0\n",
      "HeatingQC :0\n",
      "CentralAir :0\n",
      "Electrical :1\n",
      "1stFlrSF :0\n",
      "2ndFlrSF :0\n",
      "LowQualFinSF :0\n",
      "GrLivArea :0\n",
      "BsmtFullBath :0\n",
      "BsmtHalfBath :0\n",
      "FullBath :0\n",
      "HalfBath :0\n",
      "BedroomAbvGr :0\n",
      "KitchenAbvGr :0\n",
      "KitchenQual :0\n",
      "TotRmsAbvGrd :0\n",
      "Functional :0\n",
      "Fireplaces :0\n",
      "GarageType :81\n",
      "GarageYrBlt :0\n",
      "GarageFinish :81\n",
      "GarageCars :0\n",
      "GarageArea :0\n",
      "GarageQual :81\n",
      "GarageCond :81\n",
      "PavedDrive :0\n",
      "WoodDeckSF :0\n",
      "OpenPorchSF :0\n",
      "EnclosedPorch :0\n",
      "3SsnPorch :0\n",
      "ScreenPorch :0\n",
      "PoolArea :0\n",
      "MiscVal :0\n",
      "MoSold :0\n",
      "YrSold :0\n",
      "SaleType :0\n",
      "SaleCondition :0\n",
      "SalePrice :0\n"
     ]
    }
   ],
   "source": [
    "cols_num = [0, 2, 3, 15, 16, 17, 18, 24, 32, 34, 35, 36, 41, 42, 43, 44, 45, 46, 47, 48, 49, 50, 52, 54, 56, 58, 59, 63, 64, 65, 66, 67, 68, 69, 70, 71]\n",
    "cols_names = []\n",
    "for col in dataset.columns:\n",
    "    cols_names.append(str(col))\n",
    "for x in range(75):\n",
    "    if x in cols_num:\n",
    "        dataset[cols_names[x]] = dataset[cols_names[x]].fillna(dataset[cols_names[x]].mean())\n",
    "\n",
    "for col in dataset:\n",
    "    print(f\"{col} :{dataset[col].isnull().sum()}\")\n",
    "        "
   ]
  },
  {
   "cell_type": "code",
   "execution_count": 917,
   "metadata": {},
   "outputs": [
    {
     "name": "stdout",
     "output_type": "stream",
     "text": [
      "{\"<class 'str'>\", \"<class 'float'>\", \"<class 'int'>\"}\n",
      "[0, 2, 3, 15, 16, 17, 18, 24, 32, 34, 35, 36, 41, 42, 43, 44, 45, 46, 47, 48, 49, 50, 52, 54, 56, 58, 59, 63, 64, 65, 66, 67, 68, 69, 70, 71]\n",
      "[1, 4, 5, 6, 7, 8, 9, 10, 11, 12, 13, 14, 19, 20, 21, 22, 23, 25, 26, 27, 28, 29, 30, 31, 33, 37, 38, 39, 40, 51, 53, 55, 57, 60, 61, 62, 72, 73]\n"
     ]
    }
   ],
   "source": [
    "\n",
    "X = dataset.iloc[:, :-1].values\n",
    "y = dataset.iloc[:, -1].values\n",
    "\n",
    "types = set()\n",
    "type_num = [\"<class 'float'>\", \"<class 'int'>\"]\n",
    "cols_num = []\n",
    "cols_str = []\n",
    "for col in range(74):\n",
    "    if str(type(X[0, col])) in type_num:\n",
    "        cols_num.append(col)\n",
    "    elif str(type(X[0, col])) == \"<class 'str'>\":\n",
    "        cols_str.append(col)\n",
    "        \n",
    "    types.add(str(type(X[0, col])))\n",
    "print(types)\n",
    "print(cols_num)\n",
    "print(cols_str)\n",
    "\n",
    "\n"
   ]
  },
  {
   "cell_type": "code",
   "execution_count": 918,
   "metadata": {},
   "outputs": [
    {
     "name": "stdout",
     "output_type": "stream",
     "text": [
      "(1459, 74)\n",
      "{\"<class 'str'>\", \"<class 'float'>\", \"<class 'int'>\"}\n",
      "[0, 2, 3, 15, 16, 17, 18, 24, 32, 34, 35, 36, 41, 42, 43, 44, 45, 46, 47, 48, 49, 50, 52, 54, 56, 58, 59, 63, 64, 65, 66, 67, 68, 69, 70, 71]\n",
      "[1, 4, 5, 6, 7, 8, 9, 10, 11, 12, 13, 14, 19, 20, 21, 22, 23, 25, 26, 27, 28, 29, 30, 31, 33, 37, 38, 39, 40, 51, 53, 55, 57, 60, 61, 62, 72, 73]\n"
     ]
    }
   ],
   "source": [
    "\n",
    "X_test = testdataset.iloc[:, :].values\n",
    "print(X_test.shape)\n",
    "\n",
    "types2 = set()\n",
    "type_num2 = [\"<class 'float'>\", \"<class 'int'>\"]\n",
    "cols_num2 = []\n",
    "cols_str2 = []\n",
    "for col in range(74):\n",
    "    if str(type(X_test[0, col])) in type_num2:\n",
    "        cols_num2.append(col)\n",
    "    elif str(type(X_test[0, col])) == \"<class 'str'>\":\n",
    "        cols_str2.append(col)\n",
    "        \n",
    "    types2.add(str(type(X_test[0, col])))\n",
    "print(types2)\n",
    "print(cols_num2)\n",
    "print(cols_str2)\n",
    "\n"
   ]
  },
  {
   "cell_type": "code",
   "execution_count": 919,
   "metadata": {},
   "outputs": [],
   "source": [
    "from sklearn.impute import SimpleImputer\n",
    "imputer = SimpleImputer(missing_values=np.nan, strategy= \"most_frequent\")\n",
    "imputer2 = SimpleImputer(missing_values=np.nan, strategy= \"mean\")\n",
    "imputer.fit(X)\n",
    "X = imputer.transform(X)\n",
    "\n",
    "\n"
   ]
  },
  {
   "cell_type": "code",
   "execution_count": 920,
   "metadata": {},
   "outputs": [
    {
     "name": "stdout",
     "output_type": "stream",
     "text": [
      "(1460, 74)\n",
      "(1459, 74)\n"
     ]
    }
   ],
   "source": [
    "print(X.shape)\n",
    "from sklearn.impute import SimpleImputer\n",
    "imputer2 = SimpleImputer(missing_values=np.nan, strategy= \"most_frequent\")\n",
    "imputer2.fit(X_test)\n",
    "X_test = imputer.transform(X_test)\n",
    "\n",
    "print(X_test.shape)\n"
   ]
  },
  {
   "cell_type": "code",
   "execution_count": 921,
   "metadata": {},
   "outputs": [
    {
     "name": "stdout",
     "output_type": "stream",
     "text": [
      "(1460, 74)\n",
      "(1460, 74)\n"
     ]
    }
   ],
   "source": [
    "print(X.shape)\n",
    "from sklearn.preprocessing import StandardScaler\n",
    "ct = ColumnTransformer(transformers=[('somename', StandardScaler(with_mean=False), cols_num )], remainder='passthrough')\n",
    "X = ct.fit_transform(X)\n",
    "print(X.shape)\n",
    "sc = StandardScaler()\n",
    "y = y.reshape(-1,1)\n",
    "y = sc.fit_transform(y)"
   ]
  },
  {
   "cell_type": "code",
   "execution_count": 922,
   "metadata": {},
   "outputs": [
    {
     "name": "stdout",
     "output_type": "stream",
     "text": [
      "(1459, 74)\n"
     ]
    }
   ],
   "source": [
    "\n",
    "ct2 = ColumnTransformer(transformers=[('somename2', StandardScaler(with_mean=False), cols_num2 )], remainder='passthrough')\n",
    "X_test = ct2.fit_transform(X_test)\n",
    "print(X_test.shape)"
   ]
  },
  {
   "cell_type": "code",
   "execution_count": 923,
   "metadata": {},
   "outputs": [
    {
     "name": "stdout",
     "output_type": "stream",
     "text": [
      "{\"<class 'str'>\", \"<class 'float'>\"}\n",
      "[0, 1, 2, 3, 4, 5, 6, 7, 8, 9, 10, 11, 12, 13, 14, 15, 16, 17, 18, 19, 20, 21, 22, 23, 24, 25, 26, 27, 28, 29, 30, 31, 32, 33, 34, 35]\n",
      "[36, 37, 38, 39, 40, 41, 42, 43, 44, 45, 46, 47, 48, 49, 50, 51, 52, 53, 54, 55, 56, 57, 58, 59, 60, 61, 62, 63, 64, 65, 66, 67, 68, 69, 70, 71, 72, 73]\n"
     ]
    }
   ],
   "source": [
    "\n",
    "\n",
    "types = set()\n",
    "type_num = [\"<class 'float'>\", \"<class 'int'>\"]\n",
    "cols_num = []\n",
    "cols_str = []\n",
    "for col in range(74):\n",
    "    if str(type(X[0, col])) in type_num:\n",
    "        cols_num.append(col)\n",
    "    elif str(type(X[0, col])) == \"<class 'str'>\":\n",
    "        cols_str.append(col)\n",
    "        \n",
    "    types.add(str(type(X[0, col])))\n",
    "print(types)\n",
    "print(cols_num)\n",
    "print(cols_str)\n",
    "\n"
   ]
  },
  {
   "cell_type": "code",
   "execution_count": 924,
   "metadata": {},
   "outputs": [
    {
     "name": "stdout",
     "output_type": "stream",
     "text": [
      "(1459, 270)\n",
      "(1460, 74)\n",
      "(1460, 270)\n"
     ]
    }
   ],
   "source": [
    "X2 = np.concatenate((X, X_test), axis=0)\n",
    "\n",
    "from sklearn.compose import ColumnTransformer\n",
    "from sklearn.preprocessing import OneHotEncoder\n",
    "ct = ColumnTransformer(transformers=[('encoder', OneHotEncoder(), cols_str )], remainder='passthrough')\n",
    "X2 = ct.fit_transform(X2)\n",
    "X3 = X2[0:1460,:]\n",
    "X_test3 = X2[1460:,:]\n",
    "print(X_test3.shape)\n",
    "print(X.shape)\n",
    "print(X3.shape)"
   ]
  },
  {
   "cell_type": "code",
   "execution_count": 925,
   "metadata": {},
   "outputs": [
    {
     "name": "stdout",
     "output_type": "stream",
     "text": [
      "[[130192.596]\n",
      " [161850.368]\n",
      " [185117.948]\n",
      " ...\n",
      " [145078.633]\n",
      " [114994.47 ]\n",
      " [236481.732]]\n"
     ]
    }
   ],
   "source": [
    "from sklearn.ensemble import RandomForestRegressor\n",
    "classifier = RandomForestRegressor(n_estimators=1000)\n",
    "classifier.fit(X3, y.ravel())\n",
    "\n",
    "results = classifier.predict(X_test3)\n",
    "results = sc.inverse_transform(results.reshape(-1,1))\n",
    "print(results)"
   ]
  },
  {
   "cell_type": "code",
   "execution_count": 926,
   "metadata": {},
   "outputs": [
    {
     "name": "stdout",
     "output_type": "stream",
     "text": [
      "[1461. 1462. 1463. ... 2917. 2918. 2919.]\n",
      "(1459, 2)\n"
     ]
    }
   ],
   "source": [
    "results.shape\n",
    "ids = ids.astype(int)\n",
    "results2 = np.column_stack((ids, results))\n",
    "results2[:,0] = np.floor(results2[:,0])\n",
    "print(results2[:,0])\n",
    "print(results2.shape)\n",
    "\n"
   ]
  },
  {
   "cell_type": "code",
   "execution_count": 927,
   "metadata": {},
   "outputs": [
    {
     "name": "stdout",
     "output_type": "stream",
     "text": [
      "(1459, 2)\n",
      "[[  1461.    130192.596]\n",
      " [  1462.    161850.368]\n",
      " [  1463.    185117.948]\n",
      " ...\n",
      " [  2917.    145078.633]\n",
      " [  2918.    114994.47 ]\n",
      " [  2919.    236481.732]]\n"
     ]
    }
   ],
   "source": [
    "\n",
    "results3 = results2.astype(int)\n",
    "print(results3.shape)\n",
    "print(results2)"
   ]
  },
  {
   "cell_type": "code",
   "execution_count": 928,
   "metadata": {},
   "outputs": [],
   "source": [
    "names = [\"Id\",\"SalePrice\"]\n",
    "df = pd.DataFrame(results3, columns=names)\n",
    "df.to_csv('results4.csv', index=False, header=True, sep=',')"
   ]
  },
  {
   "cell_type": "code",
   "execution_count": 929,
   "metadata": {},
   "outputs": [],
   "source": [
    "df = pd.DataFrame(results2, columns=names)\n",
    "df[\"Id\"] = pd.to_numeric(df[\"Id\"], downcast=\"integer\")\n",
    "df.to_csv('results5.csv', index=False, header=True, sep=',')"
   ]
  }
 ],
 "metadata": {
  "interpreter": {
   "hash": "99836dfaf68ec55684d2620e76bdb955c0bcafeb584d0ff864bf6eb150defc89"
  },
  "kernelspec": {
   "display_name": "Python 3.9.7 64-bit",
   "language": "python",
   "name": "python3"
  },
  "language_info": {
   "codemirror_mode": {
    "name": "ipython",
    "version": 3
   },
   "file_extension": ".py",
   "mimetype": "text/x-python",
   "name": "python",
   "nbconvert_exporter": "python",
   "pygments_lexer": "ipython3",
   "version": "3.9.7"
  },
  "orig_nbformat": 4
 },
 "nbformat": 4,
 "nbformat_minor": 2
}
